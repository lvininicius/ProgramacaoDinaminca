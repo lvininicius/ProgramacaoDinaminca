{
 "cells": [
  {
   "cell_type": "code",
   "execution_count": 7,
   "metadata": {},
   "outputs": [
    {
     "name": "stdout",
     "output_type": "stream",
     "text": [
      "[1, 2, 3, 4, 5, 6, 7, 8, 9, 10]\n"
     ]
    }
   ],
   "source": [
    "# 1. Crie uma lista com números de 1 a 10 e imprima-a.\n",
    "numeros = list(range(1, 11))\n",
    "print(numeros)"
   ]
  },
  {
   "cell_type": "code",
   "execution_count": 8,
   "metadata": {},
   "outputs": [
    {
     "name": "stdout",
     "output_type": "stream",
     "text": [
      "[2, 4, 6, 8, 10]\n"
     ]
    }
   ],
   "source": [
    "# 2. Crie uma lista vazia e adicione os números pares de 1 a 10 a ela.\n",
    "numeros = []\n",
    "for i in range(1, 11):\n",
    "    if i % 2 == 0:\n",
    "        numeros.append(i)\n",
    "print(numeros)"
   ]
  },
  {
   "cell_type": "code",
   "execution_count": 9,
   "metadata": {},
   "outputs": [
    {
     "name": "stdout",
     "output_type": "stream",
     "text": [
      "133\n"
     ]
    }
   ],
   "source": [
    "# 3. Dada uma lista de números, encontre o maior elemento.\n",
    "numeros = [1, 6, 3, 10, 15, 27, 133]\n",
    "maior_numero = max(numeros)\n",
    "print(maior_numero)"
   ]
  },
  {
   "cell_type": "code",
   "execution_count": 6,
   "metadata": {},
   "outputs": [
    {
     "data": {
      "text/plain": [
       "['CELULAR', 'TECLADO', 'PYTHON', 'C++', 'BANANINHA']"
      ]
     },
     "execution_count": 6,
     "metadata": {},
     "output_type": "execute_result"
    }
   ],
   "source": [
    "# 4. Dada uma lista de palavras, crie uma nova lista com todas as palavras em maiúsculas.\n",
    "palavras = ['celular', 'teclado', 'python', 'c++', 'bananinha']\n",
    "palavras_maiusculas = [palavra.upper() for palavra in palavras]\n",
    "print(palavras_maiusculas)"
   ]
  },
  {
   "cell_type": "code",
   "execution_count": 10,
   "metadata": {},
   "outputs": [
    {
     "name": "stdout",
     "output_type": "stream",
     "text": [
      "58\n"
     ]
    }
   ],
   "source": [
    "# 5. Dada uma lista de números, cálcule a soma de todos os elementos.\n",
    "numeros = [1, 2, 3, 4, 5, 6, 10, 9, 5, 6, 7]\n",
    "soma = sum(numeros)\n",
    "print(soma)"
   ]
  }
 ],
 "metadata": {
  "kernelspec": {
   "display_name": "Python 3",
   "language": "python",
   "name": "python3"
  },
  "language_info": {
   "codemirror_mode": {
    "name": "ipython",
    "version": 3
   },
   "file_extension": ".py",
   "mimetype": "text/x-python",
   "name": "python",
   "nbconvert_exporter": "python",
   "pygments_lexer": "ipython3",
   "version": "3.11.4"
  },
  "orig_nbformat": 4
 },
 "nbformat": 4,
 "nbformat_minor": 2
}
