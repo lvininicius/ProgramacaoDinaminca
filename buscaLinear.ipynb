{
 "cells": [
  {
   "cell_type": "code",
   "execution_count": 2,
   "metadata": {},
   "outputs": [
    {
     "name": "stdout",
     "output_type": "stream",
     "text": [
      "Resultado encontrado 3\n"
     ]
    }
   ],
   "source": [
    "# Função para busca linear\n",
    "\n",
    "def busca_linear(array, n, x):\n",
    "    for i in range(0, n):\n",
    "        if array[i] == x:\n",
    "            return i\n",
    "    return -1\n",
    "\n",
    "array = [2, 4, 0, 1, 9]\n",
    "n = len(array)\n",
    "x = 1\n",
    "\n",
    "resultado = busca_linear(array, n, x)\n",
    "\n",
    "if resultado != -1:\n",
    "    print('Resultado encontrado', resultado)\n",
    "else:\n",
    "    print('Elemento não encontrado')"
   ]
  }
 ],
 "metadata": {
  "kernelspec": {
   "display_name": "Python 3",
   "language": "python",
   "name": "python3"
  },
  "language_info": {
   "codemirror_mode": {
    "name": "ipython",
    "version": 3
   },
   "file_extension": ".py",
   "mimetype": "text/x-python",
   "name": "python",
   "nbconvert_exporter": "python",
   "pygments_lexer": "ipython3",
   "version": "3.11.4"
  },
  "orig_nbformat": 4
 },
 "nbformat": 4,
 "nbformat_minor": 2
}
